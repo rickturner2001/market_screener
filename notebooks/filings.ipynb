{
 "cells": [
  {
   "cell_type": "code",
   "execution_count": 14,
   "outputs": [],
   "source": [
    "import yfinance as yf\n",
    "\n",
    "ticker = yf.Ticker(\"AAPL\")"
   ],
   "metadata": {
    "collapsed": false,
    "pycharm": {
     "name": "#%%\n"
    }
   }
  },
  {
   "cell_type": "code",
   "execution_count": 16,
   "outputs": [],
   "source": [
    "analysis = ticker.analysis"
   ],
   "metadata": {
    "collapsed": false,
    "pycharm": {
     "name": "#%%\n"
    }
   }
  },
  {
   "cell_type": "code",
   "execution_count": 17,
   "outputs": [
    {
     "data": {
      "text/plain": "        Max Age   End Date   Growth  Earnings Estimate Avg  \\\nPeriod                                                       \n0Q            1 2022-06-30 -0.10800                   1.16   \n+1Q           1 2022-09-30  0.07300                   1.33   \n0Y            1 2022-09-30  0.09600                   6.15   \n+1Y           1 2023-09-30  0.06700                   6.56   \n+5Y           1        NaT  0.09910                    NaN   \n-5Y           1        NaT  0.08415                    NaN   \n\n        Earnings Estimate Low  Earnings Estimate High  \\\nPeriod                                                  \n0Q                       1.07                    1.32   \n+1Q                      1.21                    1.45   \n0Y                       5.93                    6.63   \n+1Y                      5.91                    7.35   \n+5Y                       NaN                     NaN   \n-5Y                       NaN                     NaN   \n\n        Earnings Estimate Year Ago Eps  Earnings Estimate Number Of Analysts  \\\nPeriod                                                                         \n0Q                                1.30                                  29.0   \n+1Q                               1.24                                  28.0   \n0Y                                5.61                                  38.0   \n+1Y                               6.15                                  38.0   \n+5Y                                NaN                                   NaN   \n-5Y                                NaN                                   NaN   \n\n        Earnings Estimate Growth  Revenue Estimate Avg  ...  \\\nPeriod                                                  ...   \n0Q                        -0.108          8.261130e+10  ...   \n+1Q                        0.073          9.043050e+10  ...   \n0Y                         0.096          3.941690e+11  ...   \n+1Y                        0.067          4.160470e+11  ...   \n+5Y                          NaN                   NaN  ...   \n-5Y                          NaN                   NaN  ...   \n\n        Revenue Estimate Growth  Eps Trend Current  Eps Trend 7Days Ago  \\\nPeriod                                                                    \n0Q                          NaN               1.16                 1.16   \n+1Q                       0.085               1.33                 1.33   \n0Y                        0.078               6.15                 6.14   \n+1Y                       0.056               6.56                 6.54   \n+5Y                         NaN                NaN                  NaN   \n-5Y                         NaN                NaN                  NaN   \n\n        Eps Trend 30Days Ago  Eps Trend 60Days Ago  Eps Trend 90Days Ago  \\\nPeriod                                                                     \n0Q                      1.25                  1.25                  1.24   \n+1Q                     1.37                  1.37                  1.37   \n0Y                      6.17                  6.16                  6.16   \n+1Y                     6.57                  6.56                  6.57   \n+5Y                      NaN                   NaN                   NaN   \n-5Y                      NaN                   NaN                   NaN   \n\n        Eps Revisions Up Last7Days  Eps Revisions Up Last30Days  \\\nPeriod                                                            \n0Q                             1.0                          1.0   \n+1Q                            4.0                          5.0   \n0Y                             1.0                         16.0   \n+1Y                            2.0                         22.0   \n+5Y                            NaN                          NaN   \n-5Y                            NaN                          NaN   \n\n        Eps Revisions Down Last30Days  Eps Revisions Down Last90Days  \nPeriod                                                                \n0Q                               19.0                            NaN  \n+1Q                              15.0                            NaN  \n0Y                                1.0                            NaN  \n+1Y                               0.0                            NaN  \n+5Y                               NaN                            NaN  \n-5Y                               NaN                            NaN  \n\n[6 rows x 24 columns]",
      "text/html": "<div>\n<style scoped>\n    .dataframe tbody tr th:only-of-type {\n        vertical-align: middle;\n    }\n\n    .dataframe tbody tr th {\n        vertical-align: top;\n    }\n\n    .dataframe thead th {\n        text-align: right;\n    }\n</style>\n<table border=\"1\" class=\"dataframe\">\n  <thead>\n    <tr style=\"text-align: right;\">\n      <th></th>\n      <th>Max Age</th>\n      <th>End Date</th>\n      <th>Growth</th>\n      <th>Earnings Estimate Avg</th>\n      <th>Earnings Estimate Low</th>\n      <th>Earnings Estimate High</th>\n      <th>Earnings Estimate Year Ago Eps</th>\n      <th>Earnings Estimate Number Of Analysts</th>\n      <th>Earnings Estimate Growth</th>\n      <th>Revenue Estimate Avg</th>\n      <th>...</th>\n      <th>Revenue Estimate Growth</th>\n      <th>Eps Trend Current</th>\n      <th>Eps Trend 7Days Ago</th>\n      <th>Eps Trend 30Days Ago</th>\n      <th>Eps Trend 60Days Ago</th>\n      <th>Eps Trend 90Days Ago</th>\n      <th>Eps Revisions Up Last7Days</th>\n      <th>Eps Revisions Up Last30Days</th>\n      <th>Eps Revisions Down Last30Days</th>\n      <th>Eps Revisions Down Last90Days</th>\n    </tr>\n    <tr>\n      <th>Period</th>\n      <th></th>\n      <th></th>\n      <th></th>\n      <th></th>\n      <th></th>\n      <th></th>\n      <th></th>\n      <th></th>\n      <th></th>\n      <th></th>\n      <th></th>\n      <th></th>\n      <th></th>\n      <th></th>\n      <th></th>\n      <th></th>\n      <th></th>\n      <th></th>\n      <th></th>\n      <th></th>\n      <th></th>\n    </tr>\n  </thead>\n  <tbody>\n    <tr>\n      <th>0Q</th>\n      <td>1</td>\n      <td>2022-06-30</td>\n      <td>-0.10800</td>\n      <td>1.16</td>\n      <td>1.07</td>\n      <td>1.32</td>\n      <td>1.30</td>\n      <td>29.0</td>\n      <td>-0.108</td>\n      <td>8.261130e+10</td>\n      <td>...</td>\n      <td>NaN</td>\n      <td>1.16</td>\n      <td>1.16</td>\n      <td>1.25</td>\n      <td>1.25</td>\n      <td>1.24</td>\n      <td>1.0</td>\n      <td>1.0</td>\n      <td>19.0</td>\n      <td>NaN</td>\n    </tr>\n    <tr>\n      <th>+1Q</th>\n      <td>1</td>\n      <td>2022-09-30</td>\n      <td>0.07300</td>\n      <td>1.33</td>\n      <td>1.21</td>\n      <td>1.45</td>\n      <td>1.24</td>\n      <td>28.0</td>\n      <td>0.073</td>\n      <td>9.043050e+10</td>\n      <td>...</td>\n      <td>0.085</td>\n      <td>1.33</td>\n      <td>1.33</td>\n      <td>1.37</td>\n      <td>1.37</td>\n      <td>1.37</td>\n      <td>4.0</td>\n      <td>5.0</td>\n      <td>15.0</td>\n      <td>NaN</td>\n    </tr>\n    <tr>\n      <th>0Y</th>\n      <td>1</td>\n      <td>2022-09-30</td>\n      <td>0.09600</td>\n      <td>6.15</td>\n      <td>5.93</td>\n      <td>6.63</td>\n      <td>5.61</td>\n      <td>38.0</td>\n      <td>0.096</td>\n      <td>3.941690e+11</td>\n      <td>...</td>\n      <td>0.078</td>\n      <td>6.15</td>\n      <td>6.14</td>\n      <td>6.17</td>\n      <td>6.16</td>\n      <td>6.16</td>\n      <td>1.0</td>\n      <td>16.0</td>\n      <td>1.0</td>\n      <td>NaN</td>\n    </tr>\n    <tr>\n      <th>+1Y</th>\n      <td>1</td>\n      <td>2023-09-30</td>\n      <td>0.06700</td>\n      <td>6.56</td>\n      <td>5.91</td>\n      <td>7.35</td>\n      <td>6.15</td>\n      <td>38.0</td>\n      <td>0.067</td>\n      <td>4.160470e+11</td>\n      <td>...</td>\n      <td>0.056</td>\n      <td>6.56</td>\n      <td>6.54</td>\n      <td>6.57</td>\n      <td>6.56</td>\n      <td>6.57</td>\n      <td>2.0</td>\n      <td>22.0</td>\n      <td>0.0</td>\n      <td>NaN</td>\n    </tr>\n    <tr>\n      <th>+5Y</th>\n      <td>1</td>\n      <td>NaT</td>\n      <td>0.09910</td>\n      <td>NaN</td>\n      <td>NaN</td>\n      <td>NaN</td>\n      <td>NaN</td>\n      <td>NaN</td>\n      <td>NaN</td>\n      <td>NaN</td>\n      <td>...</td>\n      <td>NaN</td>\n      <td>NaN</td>\n      <td>NaN</td>\n      <td>NaN</td>\n      <td>NaN</td>\n      <td>NaN</td>\n      <td>NaN</td>\n      <td>NaN</td>\n      <td>NaN</td>\n      <td>NaN</td>\n    </tr>\n    <tr>\n      <th>-5Y</th>\n      <td>1</td>\n      <td>NaT</td>\n      <td>0.08415</td>\n      <td>NaN</td>\n      <td>NaN</td>\n      <td>NaN</td>\n      <td>NaN</td>\n      <td>NaN</td>\n      <td>NaN</td>\n      <td>NaN</td>\n      <td>...</td>\n      <td>NaN</td>\n      <td>NaN</td>\n      <td>NaN</td>\n      <td>NaN</td>\n      <td>NaN</td>\n      <td>NaN</td>\n      <td>NaN</td>\n      <td>NaN</td>\n      <td>NaN</td>\n      <td>NaN</td>\n    </tr>\n  </tbody>\n</table>\n<p>6 rows × 24 columns</p>\n</div>"
     },
     "execution_count": 17,
     "metadata": {},
     "output_type": "execute_result"
    }
   ],
   "source": [
    "analysis"
   ],
   "metadata": {
    "collapsed": false,
    "pycharm": {
     "name": "#%%\n"
    }
   }
  },
  {
   "cell_type": "code",
   "execution_count": 18,
   "outputs": [
    {
     "data": {
      "text/plain": "Index(['Max Age', 'End Date', 'Growth', 'Earnings Estimate Avg',\n       'Earnings Estimate Low', 'Earnings Estimate High',\n       'Earnings Estimate Year Ago Eps',\n       'Earnings Estimate Number Of Analysts', 'Earnings Estimate Growth',\n       'Revenue Estimate Avg', 'Revenue Estimate Low', 'Revenue Estimate High',\n       'Revenue Estimate Number Of Analysts',\n       'Revenue Estimate Year Ago Revenue', 'Revenue Estimate Growth',\n       'Eps Trend Current', 'Eps Trend 7Days Ago', 'Eps Trend 30Days Ago',\n       'Eps Trend 60Days Ago', 'Eps Trend 90Days Ago',\n       'Eps Revisions Up Last7Days', 'Eps Revisions Up Last30Days',\n       'Eps Revisions Down Last30Days', 'Eps Revisions Down Last90Days'],\n      dtype='object')"
     },
     "execution_count": 18,
     "metadata": {},
     "output_type": "execute_result"
    }
   ],
   "source": [
    "analysis.columns"
   ],
   "metadata": {
    "collapsed": false,
    "pycharm": {
     "name": "#%%\n"
    }
   }
  },
  {
   "cell_type": "code",
   "execution_count": 20,
   "outputs": [
    {
     "data": {
      "text/plain": "        Max Age   End Date   Growth  Earnings Estimate Avg  \\\nPeriod                                                       \n0Q            1 2022-06-30 -0.10800                   1.16   \n+1Q           1 2022-09-30  0.07300                   1.33   \n0Y            1 2022-09-30  0.09600                   6.15   \n+1Y           1 2023-09-30  0.06700                   6.56   \n+5Y           1        NaT  0.09910                    NaN   \n-5Y           1        NaT  0.08415                    NaN   \n\n        Earnings Estimate Low  Earnings Estimate High  \\\nPeriod                                                  \n0Q                       1.07                    1.32   \n+1Q                      1.21                    1.45   \n0Y                       5.93                    6.63   \n+1Y                      5.91                    7.35   \n+5Y                       NaN                     NaN   \n-5Y                       NaN                     NaN   \n\n        Earnings Estimate Year Ago Eps  Earnings Estimate Number Of Analysts  \\\nPeriod                                                                         \n0Q                                1.30                                  29.0   \n+1Q                               1.24                                  28.0   \n0Y                                5.61                                  38.0   \n+1Y                               6.15                                  38.0   \n+5Y                                NaN                                   NaN   \n-5Y                                NaN                                   NaN   \n\n        Earnings Estimate Growth  Revenue Estimate Avg  ...  \\\nPeriod                                                  ...   \n0Q                        -0.108          8.261130e+10  ...   \n+1Q                        0.073          9.043050e+10  ...   \n0Y                         0.096          3.941690e+11  ...   \n+1Y                        0.067          4.160470e+11  ...   \n+5Y                          NaN                   NaN  ...   \n-5Y                          NaN                   NaN  ...   \n\n        Revenue Estimate Growth  Eps Trend Current  Eps Trend 7Days Ago  \\\nPeriod                                                                    \n0Q                          NaN               1.16                 1.16   \n+1Q                       0.085               1.33                 1.33   \n0Y                        0.078               6.15                 6.14   \n+1Y                       0.056               6.56                 6.54   \n+5Y                         NaN                NaN                  NaN   \n-5Y                         NaN                NaN                  NaN   \n\n        Eps Trend 30Days Ago  Eps Trend 60Days Ago  Eps Trend 90Days Ago  \\\nPeriod                                                                     \n0Q                      1.25                  1.25                  1.24   \n+1Q                     1.37                  1.37                  1.37   \n0Y                      6.17                  6.16                  6.16   \n+1Y                     6.57                  6.56                  6.57   \n+5Y                      NaN                   NaN                   NaN   \n-5Y                      NaN                   NaN                   NaN   \n\n        Eps Revisions Up Last7Days  Eps Revisions Up Last30Days  \\\nPeriod                                                            \n0Q                             1.0                          1.0   \n+1Q                            4.0                          5.0   \n0Y                             1.0                         16.0   \n+1Y                            2.0                         22.0   \n+5Y                            NaN                          NaN   \n-5Y                            NaN                          NaN   \n\n        Eps Revisions Down Last30Days  Eps Revisions Down Last90Days  \nPeriod                                                                \n0Q                               19.0                            NaN  \n+1Q                              15.0                            NaN  \n0Y                                1.0                            NaN  \n+1Y                               0.0                            NaN  \n+5Y                               NaN                            NaN  \n-5Y                               NaN                            NaN  \n\n[6 rows x 24 columns]",
      "text/html": "<div>\n<style scoped>\n    .dataframe tbody tr th:only-of-type {\n        vertical-align: middle;\n    }\n\n    .dataframe tbody tr th {\n        vertical-align: top;\n    }\n\n    .dataframe thead th {\n        text-align: right;\n    }\n</style>\n<table border=\"1\" class=\"dataframe\">\n  <thead>\n    <tr style=\"text-align: right;\">\n      <th></th>\n      <th>Max Age</th>\n      <th>End Date</th>\n      <th>Growth</th>\n      <th>Earnings Estimate Avg</th>\n      <th>Earnings Estimate Low</th>\n      <th>Earnings Estimate High</th>\n      <th>Earnings Estimate Year Ago Eps</th>\n      <th>Earnings Estimate Number Of Analysts</th>\n      <th>Earnings Estimate Growth</th>\n      <th>Revenue Estimate Avg</th>\n      <th>...</th>\n      <th>Revenue Estimate Growth</th>\n      <th>Eps Trend Current</th>\n      <th>Eps Trend 7Days Ago</th>\n      <th>Eps Trend 30Days Ago</th>\n      <th>Eps Trend 60Days Ago</th>\n      <th>Eps Trend 90Days Ago</th>\n      <th>Eps Revisions Up Last7Days</th>\n      <th>Eps Revisions Up Last30Days</th>\n      <th>Eps Revisions Down Last30Days</th>\n      <th>Eps Revisions Down Last90Days</th>\n    </tr>\n    <tr>\n      <th>Period</th>\n      <th></th>\n      <th></th>\n      <th></th>\n      <th></th>\n      <th></th>\n      <th></th>\n      <th></th>\n      <th></th>\n      <th></th>\n      <th></th>\n      <th></th>\n      <th></th>\n      <th></th>\n      <th></th>\n      <th></th>\n      <th></th>\n      <th></th>\n      <th></th>\n      <th></th>\n      <th></th>\n      <th></th>\n    </tr>\n  </thead>\n  <tbody>\n    <tr>\n      <th>0Q</th>\n      <td>1</td>\n      <td>2022-06-30</td>\n      <td>-0.10800</td>\n      <td>1.16</td>\n      <td>1.07</td>\n      <td>1.32</td>\n      <td>1.30</td>\n      <td>29.0</td>\n      <td>-0.108</td>\n      <td>8.261130e+10</td>\n      <td>...</td>\n      <td>NaN</td>\n      <td>1.16</td>\n      <td>1.16</td>\n      <td>1.25</td>\n      <td>1.25</td>\n      <td>1.24</td>\n      <td>1.0</td>\n      <td>1.0</td>\n      <td>19.0</td>\n      <td>NaN</td>\n    </tr>\n    <tr>\n      <th>+1Q</th>\n      <td>1</td>\n      <td>2022-09-30</td>\n      <td>0.07300</td>\n      <td>1.33</td>\n      <td>1.21</td>\n      <td>1.45</td>\n      <td>1.24</td>\n      <td>28.0</td>\n      <td>0.073</td>\n      <td>9.043050e+10</td>\n      <td>...</td>\n      <td>0.085</td>\n      <td>1.33</td>\n      <td>1.33</td>\n      <td>1.37</td>\n      <td>1.37</td>\n      <td>1.37</td>\n      <td>4.0</td>\n      <td>5.0</td>\n      <td>15.0</td>\n      <td>NaN</td>\n    </tr>\n    <tr>\n      <th>0Y</th>\n      <td>1</td>\n      <td>2022-09-30</td>\n      <td>0.09600</td>\n      <td>6.15</td>\n      <td>5.93</td>\n      <td>6.63</td>\n      <td>5.61</td>\n      <td>38.0</td>\n      <td>0.096</td>\n      <td>3.941690e+11</td>\n      <td>...</td>\n      <td>0.078</td>\n      <td>6.15</td>\n      <td>6.14</td>\n      <td>6.17</td>\n      <td>6.16</td>\n      <td>6.16</td>\n      <td>1.0</td>\n      <td>16.0</td>\n      <td>1.0</td>\n      <td>NaN</td>\n    </tr>\n    <tr>\n      <th>+1Y</th>\n      <td>1</td>\n      <td>2023-09-30</td>\n      <td>0.06700</td>\n      <td>6.56</td>\n      <td>5.91</td>\n      <td>7.35</td>\n      <td>6.15</td>\n      <td>38.0</td>\n      <td>0.067</td>\n      <td>4.160470e+11</td>\n      <td>...</td>\n      <td>0.056</td>\n      <td>6.56</td>\n      <td>6.54</td>\n      <td>6.57</td>\n      <td>6.56</td>\n      <td>6.57</td>\n      <td>2.0</td>\n      <td>22.0</td>\n      <td>0.0</td>\n      <td>NaN</td>\n    </tr>\n    <tr>\n      <th>+5Y</th>\n      <td>1</td>\n      <td>NaT</td>\n      <td>0.09910</td>\n      <td>NaN</td>\n      <td>NaN</td>\n      <td>NaN</td>\n      <td>NaN</td>\n      <td>NaN</td>\n      <td>NaN</td>\n      <td>NaN</td>\n      <td>...</td>\n      <td>NaN</td>\n      <td>NaN</td>\n      <td>NaN</td>\n      <td>NaN</td>\n      <td>NaN</td>\n      <td>NaN</td>\n      <td>NaN</td>\n      <td>NaN</td>\n      <td>NaN</td>\n      <td>NaN</td>\n    </tr>\n    <tr>\n      <th>-5Y</th>\n      <td>1</td>\n      <td>NaT</td>\n      <td>0.08415</td>\n      <td>NaN</td>\n      <td>NaN</td>\n      <td>NaN</td>\n      <td>NaN</td>\n      <td>NaN</td>\n      <td>NaN</td>\n      <td>NaN</td>\n      <td>...</td>\n      <td>NaN</td>\n      <td>NaN</td>\n      <td>NaN</td>\n      <td>NaN</td>\n      <td>NaN</td>\n      <td>NaN</td>\n      <td>NaN</td>\n      <td>NaN</td>\n      <td>NaN</td>\n      <td>NaN</td>\n    </tr>\n  </tbody>\n</table>\n<p>6 rows × 24 columns</p>\n</div>"
     },
     "execution_count": 20,
     "metadata": {},
     "output_type": "execute_result"
    }
   ],
   "source": [
    "analysis"
   ],
   "metadata": {
    "collapsed": false,
    "pycharm": {
     "name": "#%%\n"
    }
   }
  },
  {
   "cell_type": "code",
   "execution_count": 21,
   "outputs": [],
   "source": [
    "financials = ticker.get_financials()"
   ],
   "metadata": {
    "collapsed": false,
    "pycharm": {
     "name": "#%%\n"
    }
   }
  },
  {
   "cell_type": "code",
   "execution_count": 22,
   "outputs": [
    {
     "data": {
      "text/plain": "                                            2021-09-25      2020-09-26  \\\nResearch Development                     21914000000.0   18752000000.0   \nEffect Of Accounting Charges                      None            None   \nIncome Before Tax                       109207000000.0   67091000000.0   \nMinority Interest                                 None            None   \nNet Income                               94680000000.0   57411000000.0   \nSelling General Administrative           21973000000.0   19916000000.0   \nGross Profit                            152836000000.0  104956000000.0   \nEbit                                    108949000000.0   66288000000.0   \nOperating Income                        108949000000.0   66288000000.0   \nOther Operating Expenses                          None            None   \nInterest Expense                         -2645000000.0   -2873000000.0   \nExtraordinary Items                               None            None   \nNon Recurring                                     None            None   \nOther Items                                       None            None   \nIncome Tax Expense                       14527000000.0    9680000000.0   \nTotal Revenue                           365817000000.0  274515000000.0   \nTotal Operating Expenses                256868000000.0  208227000000.0   \nCost Of Revenue                         212981000000.0  169559000000.0   \nTotal Other Income Expense Net             258000000.0     803000000.0   \nDiscontinued Operations                           None            None   \nNet Income From Continuing Ops           94680000000.0   57411000000.0   \nNet Income Applicable To Common Shares   94680000000.0   57411000000.0   \n\n                                            2019-09-28      2018-09-29  \nResearch Development                     16217000000.0   14236000000.0  \nEffect Of Accounting Charges                      None            None  \nIncome Before Tax                        65737000000.0   72903000000.0  \nMinority Interest                                 None            None  \nNet Income                               55256000000.0   59531000000.0  \nSelling General Administrative           18245000000.0   16705000000.0  \nGross Profit                             98392000000.0  101839000000.0  \nEbit                                     63930000000.0   70898000000.0  \nOperating Income                         63930000000.0   70898000000.0  \nOther Operating Expenses                          None            None  \nInterest Expense                         -3576000000.0   -3240000000.0  \nExtraordinary Items                               None            None  \nNon Recurring                                     None            None  \nOther Items                                       None            None  \nIncome Tax Expense                       10481000000.0   13372000000.0  \nTotal Revenue                           260174000000.0  265595000000.0  \nTotal Operating Expenses                196244000000.0  194697000000.0  \nCost Of Revenue                         161782000000.0  163756000000.0  \nTotal Other Income Expense Net            1807000000.0    2005000000.0  \nDiscontinued Operations                           None            None  \nNet Income From Continuing Ops           55256000000.0   59531000000.0  \nNet Income Applicable To Common Shares   55256000000.0   59531000000.0  ",
      "text/html": "<div>\n<style scoped>\n    .dataframe tbody tr th:only-of-type {\n        vertical-align: middle;\n    }\n\n    .dataframe tbody tr th {\n        vertical-align: top;\n    }\n\n    .dataframe thead th {\n        text-align: right;\n    }\n</style>\n<table border=\"1\" class=\"dataframe\">\n  <thead>\n    <tr style=\"text-align: right;\">\n      <th></th>\n      <th>2021-09-25</th>\n      <th>2020-09-26</th>\n      <th>2019-09-28</th>\n      <th>2018-09-29</th>\n    </tr>\n  </thead>\n  <tbody>\n    <tr>\n      <th>Research Development</th>\n      <td>21914000000.0</td>\n      <td>18752000000.0</td>\n      <td>16217000000.0</td>\n      <td>14236000000.0</td>\n    </tr>\n    <tr>\n      <th>Effect Of Accounting Charges</th>\n      <td>None</td>\n      <td>None</td>\n      <td>None</td>\n      <td>None</td>\n    </tr>\n    <tr>\n      <th>Income Before Tax</th>\n      <td>109207000000.0</td>\n      <td>67091000000.0</td>\n      <td>65737000000.0</td>\n      <td>72903000000.0</td>\n    </tr>\n    <tr>\n      <th>Minority Interest</th>\n      <td>None</td>\n      <td>None</td>\n      <td>None</td>\n      <td>None</td>\n    </tr>\n    <tr>\n      <th>Net Income</th>\n      <td>94680000000.0</td>\n      <td>57411000000.0</td>\n      <td>55256000000.0</td>\n      <td>59531000000.0</td>\n    </tr>\n    <tr>\n      <th>Selling General Administrative</th>\n      <td>21973000000.0</td>\n      <td>19916000000.0</td>\n      <td>18245000000.0</td>\n      <td>16705000000.0</td>\n    </tr>\n    <tr>\n      <th>Gross Profit</th>\n      <td>152836000000.0</td>\n      <td>104956000000.0</td>\n      <td>98392000000.0</td>\n      <td>101839000000.0</td>\n    </tr>\n    <tr>\n      <th>Ebit</th>\n      <td>108949000000.0</td>\n      <td>66288000000.0</td>\n      <td>63930000000.0</td>\n      <td>70898000000.0</td>\n    </tr>\n    <tr>\n      <th>Operating Income</th>\n      <td>108949000000.0</td>\n      <td>66288000000.0</td>\n      <td>63930000000.0</td>\n      <td>70898000000.0</td>\n    </tr>\n    <tr>\n      <th>Other Operating Expenses</th>\n      <td>None</td>\n      <td>None</td>\n      <td>None</td>\n      <td>None</td>\n    </tr>\n    <tr>\n      <th>Interest Expense</th>\n      <td>-2645000000.0</td>\n      <td>-2873000000.0</td>\n      <td>-3576000000.0</td>\n      <td>-3240000000.0</td>\n    </tr>\n    <tr>\n      <th>Extraordinary Items</th>\n      <td>None</td>\n      <td>None</td>\n      <td>None</td>\n      <td>None</td>\n    </tr>\n    <tr>\n      <th>Non Recurring</th>\n      <td>None</td>\n      <td>None</td>\n      <td>None</td>\n      <td>None</td>\n    </tr>\n    <tr>\n      <th>Other Items</th>\n      <td>None</td>\n      <td>None</td>\n      <td>None</td>\n      <td>None</td>\n    </tr>\n    <tr>\n      <th>Income Tax Expense</th>\n      <td>14527000000.0</td>\n      <td>9680000000.0</td>\n      <td>10481000000.0</td>\n      <td>13372000000.0</td>\n    </tr>\n    <tr>\n      <th>Total Revenue</th>\n      <td>365817000000.0</td>\n      <td>274515000000.0</td>\n      <td>260174000000.0</td>\n      <td>265595000000.0</td>\n    </tr>\n    <tr>\n      <th>Total Operating Expenses</th>\n      <td>256868000000.0</td>\n      <td>208227000000.0</td>\n      <td>196244000000.0</td>\n      <td>194697000000.0</td>\n    </tr>\n    <tr>\n      <th>Cost Of Revenue</th>\n      <td>212981000000.0</td>\n      <td>169559000000.0</td>\n      <td>161782000000.0</td>\n      <td>163756000000.0</td>\n    </tr>\n    <tr>\n      <th>Total Other Income Expense Net</th>\n      <td>258000000.0</td>\n      <td>803000000.0</td>\n      <td>1807000000.0</td>\n      <td>2005000000.0</td>\n    </tr>\n    <tr>\n      <th>Discontinued Operations</th>\n      <td>None</td>\n      <td>None</td>\n      <td>None</td>\n      <td>None</td>\n    </tr>\n    <tr>\n      <th>Net Income From Continuing Ops</th>\n      <td>94680000000.0</td>\n      <td>57411000000.0</td>\n      <td>55256000000.0</td>\n      <td>59531000000.0</td>\n    </tr>\n    <tr>\n      <th>Net Income Applicable To Common Shares</th>\n      <td>94680000000.0</td>\n      <td>57411000000.0</td>\n      <td>55256000000.0</td>\n      <td>59531000000.0</td>\n    </tr>\n  </tbody>\n</table>\n</div>"
     },
     "execution_count": 22,
     "metadata": {},
     "output_type": "execute_result"
    }
   ],
   "source": [
    "financials"
   ],
   "metadata": {
    "collapsed": false,
    "pycharm": {
     "name": "#%%\n"
    }
   }
  },
  {
   "cell_type": "code",
   "execution_count": 23,
   "outputs": [
    {
     "data": {
      "text/plain": "Index(['Research Development', 'Effect Of Accounting Charges',\n       'Income Before Tax', 'Minority Interest', 'Net Income',\n       'Selling General Administrative', 'Gross Profit', 'Ebit',\n       'Operating Income', 'Other Operating Expenses', 'Interest Expense',\n       'Extraordinary Items', 'Non Recurring', 'Other Items',\n       'Income Tax Expense', 'Total Revenue', 'Total Operating Expenses',\n       'Cost Of Revenue', 'Total Other Income Expense Net',\n       'Discontinued Operations', 'Net Income From Continuing Ops',\n       'Net Income Applicable To Common Shares'],\n      dtype='object')"
     },
     "execution_count": 23,
     "metadata": {},
     "output_type": "execute_result"
    }
   ],
   "source": [
    "financials.index"
   ],
   "metadata": {
    "collapsed": false,
    "pycharm": {
     "name": "#%%\n"
    }
   }
  },
  {
   "cell_type": "code",
   "execution_count": 24,
   "outputs": [],
   "source": [
    "misc = ticker.get_info()"
   ],
   "metadata": {
    "collapsed": false,
    "pycharm": {
     "name": "#%%\n"
    }
   }
  },
  {
   "cell_type": "code",
   "execution_count": 32,
   "outputs": [],
   "source": [
    "balance_sheet = ticker.get_balance_sheet()"
   ],
   "metadata": {
    "collapsed": false,
    "pycharm": {
     "name": "#%%\n"
    }
   }
  },
  {
   "cell_type": "code",
   "execution_count": 34,
   "outputs": [],
   "source": [
    "balance_sheet.to_csv(\"BalanceSheet.csv\")"
   ],
   "metadata": {
    "collapsed": false,
    "pycharm": {
     "name": "#%%\n"
    }
   }
  },
  {
   "cell_type": "code",
   "execution_count": 35,
   "outputs": [
    {
     "data": {
      "text/plain": "Index(['Total Liab', 'Total Stockholder Equity', 'Other Current Liab',\n       'Total Assets', 'Common Stock', 'Other Current Assets',\n       'Retained Earnings', 'Other Liab', 'Treasury Stock', 'Other Assets',\n       'Cash', 'Total Current Liabilities', 'Short Long Term Debt',\n       'Other Stockholder Equity', 'Property Plant Equipment',\n       'Total Current Assets', 'Long Term Investments', 'Net Tangible Assets',\n       'Short Term Investments', 'Net Receivables', 'Long Term Debt',\n       'Inventory', 'Accounts Payable'],\n      dtype='object')"
     },
     "execution_count": 35,
     "metadata": {},
     "output_type": "execute_result"
    }
   ],
   "source": [
    "balance_sheet.index"
   ],
   "metadata": {
    "collapsed": false,
    "pycharm": {
     "name": "#%%\n"
    }
   }
  },
  {
   "cell_type": "code",
   "execution_count": 37,
   "outputs": [
    {
     "data": {
      "text/plain": "            Dividends  Stock Splits\nDate                               \n1987-05-11   0.000536           0.0\n1987-06-16   0.000000           2.0\n1987-08-10   0.000536           0.0\n1987-11-17   0.000714           0.0\n1988-02-12   0.000714           0.0\n...               ...           ...\n2021-05-07   0.220000           0.0\n2021-08-06   0.220000           0.0\n2021-11-05   0.220000           0.0\n2022-02-04   0.220000           0.0\n2022-05-06   0.230000           0.0\n\n[80 rows x 2 columns]",
      "text/html": "<div>\n<style scoped>\n    .dataframe tbody tr th:only-of-type {\n        vertical-align: middle;\n    }\n\n    .dataframe tbody tr th {\n        vertical-align: top;\n    }\n\n    .dataframe thead th {\n        text-align: right;\n    }\n</style>\n<table border=\"1\" class=\"dataframe\">\n  <thead>\n    <tr style=\"text-align: right;\">\n      <th></th>\n      <th>Dividends</th>\n      <th>Stock Splits</th>\n    </tr>\n    <tr>\n      <th>Date</th>\n      <th></th>\n      <th></th>\n    </tr>\n  </thead>\n  <tbody>\n    <tr>\n      <th>1987-05-11</th>\n      <td>0.000536</td>\n      <td>0.0</td>\n    </tr>\n    <tr>\n      <th>1987-06-16</th>\n      <td>0.000000</td>\n      <td>2.0</td>\n    </tr>\n    <tr>\n      <th>1987-08-10</th>\n      <td>0.000536</td>\n      <td>0.0</td>\n    </tr>\n    <tr>\n      <th>1987-11-17</th>\n      <td>0.000714</td>\n      <td>0.0</td>\n    </tr>\n    <tr>\n      <th>1988-02-12</th>\n      <td>0.000714</td>\n      <td>0.0</td>\n    </tr>\n    <tr>\n      <th>...</th>\n      <td>...</td>\n      <td>...</td>\n    </tr>\n    <tr>\n      <th>2021-05-07</th>\n      <td>0.220000</td>\n      <td>0.0</td>\n    </tr>\n    <tr>\n      <th>2021-08-06</th>\n      <td>0.220000</td>\n      <td>0.0</td>\n    </tr>\n    <tr>\n      <th>2021-11-05</th>\n      <td>0.220000</td>\n      <td>0.0</td>\n    </tr>\n    <tr>\n      <th>2022-02-04</th>\n      <td>0.220000</td>\n      <td>0.0</td>\n    </tr>\n    <tr>\n      <th>2022-05-06</th>\n      <td>0.230000</td>\n      <td>0.0</td>\n    </tr>\n  </tbody>\n</table>\n<p>80 rows × 2 columns</p>\n</div>"
     },
     "execution_count": 37,
     "metadata": {},
     "output_type": "execute_result"
    }
   ],
   "source": [],
   "metadata": {
    "collapsed": false,
    "pycharm": {
     "name": "#%%\n"
    }
   }
  },
  {
   "cell_type": "code",
   "execution_count": null,
   "outputs": [],
   "source": [],
   "metadata": {
    "collapsed": false,
    "pycharm": {
     "name": "#%%\n"
    }
   }
  }
 ],
 "metadata": {
  "kernelspec": {
   "display_name": "Python 3",
   "language": "python",
   "name": "python3"
  },
  "language_info": {
   "codemirror_mode": {
    "name": "ipython",
    "version": 2
   },
   "file_extension": ".py",
   "mimetype": "text/x-python",
   "name": "python",
   "nbconvert_exporter": "python",
   "pygments_lexer": "ipython2",
   "version": "2.7.6"
  }
 },
 "nbformat": 4,
 "nbformat_minor": 0
}