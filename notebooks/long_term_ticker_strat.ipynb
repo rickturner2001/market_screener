{
 "cells": [
  {
   "cell_type": "code",
   "execution_count": 1,
   "outputs": [],
   "source": [
    "import numpy as np\n",
    "import yfinance as yf\n",
    "from classes.dataframe.EnhancedDataframe import EnhancedDataframe\n",
    "from classes.database.SP500Database import SP500Database\n",
    "from config import db_path"
   ],
   "metadata": {
    "collapsed": false,
    "pycharm": {
     "name": "#%%\n"
    }
   }
  },
  {
   "cell_type": "code",
   "execution_count": 2,
   "outputs": [],
   "source": [
    "# df = EnhancedDataframe.populate_dataframe(df, \"AAPL\")\n",
    "\n",
    "\n",
    "def compute_volatility(df):\n",
    "    df.index = df['Date']\n",
    "    dataframe = df.copy().loc[\"2021-11-01 00:00:00\":\"2021-11-30 00:00:00\"]\n",
    "    mean_close = dataframe['Close'].mean()\n",
    "    dataframe['Volatility'] = np.vectorize(lambda x: x - mean_close)(dataframe['Close'])\n",
    "    dataframe['Volatility'] = dataframe['Volatility'] ** 2\n",
    "    sum_std = dataframe['Volatility'].sum()\n",
    "    volatility = sum_std / len(dataframe)\n",
    "    volatility = np.sqrt(volatility)\n",
    "    pct_vol = volatility / dataframe['Close'].mean() * 100\n",
    "    return pct_vol"
   ],
   "metadata": {
    "collapsed": false,
    "pycharm": {
     "name": "#%%\n"
    }
   }
  },
  {
   "cell_type": "code",
   "execution_count": 87,
   "outputs": [],
   "source": [
    "vol = compute_volatility(df)"
   ],
   "metadata": {
    "collapsed": false,
    "pycharm": {
     "name": "#%%\n"
    }
   }
  },
  {
   "cell_type": "code",
   "execution_count": 89,
   "outputs": [
    {
     "data": {
      "text/plain": "(4.403518190358524,\n 3.1916408036466892,\n 158.2849998474121,\n 37.8789972687746,\n 145.11533337382826,\n 147.11000061035156)"
     },
     "execution_count": 89,
     "metadata": {},
     "output_type": "execute_result"
    }
   ],
   "source": [
    "vol, df['Change'].iloc[-1], df['MA20'].iloc[-1], df['RSI'].iloc[-1], df['BB_lower'].iloc[-1], df['Close'].iloc[-1]"
   ],
   "metadata": {
    "collapsed": false,
    "pycharm": {
     "name": "#%%\n"
    }
   }
  },
  {
   "cell_type": "code",
   "execution_count": 90,
   "outputs": [
    {
     "data": {
      "text/plain": "                  Open        High         Low       Close   Adj_Close  \\\nDate                                                                     \n2020-10-05  113.910004  116.650002  113.550003  116.500000  115.270355   \n2020-10-06  115.699997  116.120003  112.250000  113.160004  111.965607   \n2020-10-07  114.620003  115.550003  114.129997  115.080002  113.865334   \n2020-10-08  116.250000  116.400002  114.589996  114.970001  113.756500   \n2020-10-09  115.279999  117.000000  114.919998  116.970001  115.735382   \n...                ...         ...         ...         ...         ...   \n2022-05-09  154.929993  155.830002  151.490005  152.059998  152.059998   \n2022-05-10  155.520004  156.740005  152.929993  154.509995  154.509995   \n2022-05-11  153.500000  155.449997  145.809998  146.500000  146.500000   \n2022-05-12  142.770004  146.199997  138.800003  142.559998  142.559998   \n2022-05-13  144.589996  148.100006  143.110001  147.110001  147.110001   \n\n               Volume Ticker        MA20        MA50       MA100  ...  \\\nDate                                                              ...   \n2020-10-05  106243800   AAPL  112.825999  114.255749  100.994650  ...   \n2020-10-06  161498200   AAPL  112.842999  114.622749  101.352400  ...   \n2020-10-07   96849000   AAPL  112.730999  115.059299  101.733925  ...   \n2020-10-08   83477200   AAPL  112.805000  115.457899  102.096225  ...   \n2020-10-09  100506900   AAPL  113.053500  115.873499  102.483075  ...   \n...               ...    ...         ...         ...         ...  ...   \n2022-05-09  131577900   AAPL  162.206000  165.065000  168.242600  ...   \n2022-05-10  115366700   AAPL  161.643999  164.852800  167.994700  ...   \n2022-05-11  142689800   AAPL  160.585999  164.518800  167.737100  ...   \n2022-05-12  182602000   AAPL  159.193999  164.038800  167.451300  ...   \n2022-05-13  113787000   AAPL  158.285000  163.656400  167.224900  ...   \n\n             BB_middle    BB_upper    STOCH_K    STOCH_D  Volume_Change  \\\nDate                                                                      \n2020-10-05  112.944333  119.010794  91.655260  80.583530      -0.265826   \n2020-10-06  112.895000  118.915191  68.809872  74.509772       0.520072   \n2020-10-07  112.779000  118.543824  81.942552  80.802561      -0.400309   \n2020-10-08  112.770167  118.518825  81.190154  77.314193      -0.138069   \n2020-10-09  112.964500  118.910701  94.103774  85.745493       0.204004   \n...                ...         ...        ...        ...            ...   \n2022-05-09  162.499500  171.764744   2.844273  14.657468       0.133748   \n2022-05-10  161.897834  171.533691  15.069811  13.291543      -0.123206   \n2022-05-11  160.957667  171.620900   3.127845   7.013976       0.236837   \n2022-05-12  159.613500  172.270557  13.583799  10.593818       0.279713   \n2022-05-13  158.558834  172.002334  30.021675  15.577773      -0.376858   \n\n              Change  tenkan_sen   kijun_sen  senkou_span_a  senkou_span_b  \nDate                                                                        \n2020-10-05  3.079104  111.360001  120.539997     115.169376     107.482502  \n2020-10-06 -2.866950  111.360001  120.539997     115.180626     107.536251  \n2020-10-07  1.696711  112.695000  120.539997     117.714375     108.643749  \n2020-10-08 -0.095586  114.970001  120.539997     119.645000     110.543751  \n2020-10-09  1.739584  114.970001  115.969997     122.230623     112.883747  \n...              ...         ...         ...            ...            ...  \n2022-05-09 -3.318922  158.985001  164.990005     168.082500     164.855003  \n2022-05-10  1.611204  158.985001  164.990005     168.557503     164.855003  \n2022-05-11 -5.184127  156.144997  162.055000     169.242500     164.855003  \n2022-05-12 -2.689421  152.639999  156.215004     169.882504     164.855003  \n2022-05-13  3.191641  152.639999  156.080002     169.862503     164.855003  \n\n[406 rows x 23 columns]",
      "text/html": "<div>\n<style scoped>\n    .dataframe tbody tr th:only-of-type {\n        vertical-align: middle;\n    }\n\n    .dataframe tbody tr th {\n        vertical-align: top;\n    }\n\n    .dataframe thead th {\n        text-align: right;\n    }\n</style>\n<table border=\"1\" class=\"dataframe\">\n  <thead>\n    <tr style=\"text-align: right;\">\n      <th></th>\n      <th>Open</th>\n      <th>High</th>\n      <th>Low</th>\n      <th>Close</th>\n      <th>Adj_Close</th>\n      <th>Volume</th>\n      <th>Ticker</th>\n      <th>MA20</th>\n      <th>MA50</th>\n      <th>MA100</th>\n      <th>...</th>\n      <th>BB_middle</th>\n      <th>BB_upper</th>\n      <th>STOCH_K</th>\n      <th>STOCH_D</th>\n      <th>Volume_Change</th>\n      <th>Change</th>\n      <th>tenkan_sen</th>\n      <th>kijun_sen</th>\n      <th>senkou_span_a</th>\n      <th>senkou_span_b</th>\n    </tr>\n    <tr>\n      <th>Date</th>\n      <th></th>\n      <th></th>\n      <th></th>\n      <th></th>\n      <th></th>\n      <th></th>\n      <th></th>\n      <th></th>\n      <th></th>\n      <th></th>\n      <th></th>\n      <th></th>\n      <th></th>\n      <th></th>\n      <th></th>\n      <th></th>\n      <th></th>\n      <th></th>\n      <th></th>\n      <th></th>\n      <th></th>\n    </tr>\n  </thead>\n  <tbody>\n    <tr>\n      <th>2020-10-05</th>\n      <td>113.910004</td>\n      <td>116.650002</td>\n      <td>113.550003</td>\n      <td>116.500000</td>\n      <td>115.270355</td>\n      <td>106243800</td>\n      <td>AAPL</td>\n      <td>112.825999</td>\n      <td>114.255749</td>\n      <td>100.994650</td>\n      <td>...</td>\n      <td>112.944333</td>\n      <td>119.010794</td>\n      <td>91.655260</td>\n      <td>80.583530</td>\n      <td>-0.265826</td>\n      <td>3.079104</td>\n      <td>111.360001</td>\n      <td>120.539997</td>\n      <td>115.169376</td>\n      <td>107.482502</td>\n    </tr>\n    <tr>\n      <th>2020-10-06</th>\n      <td>115.699997</td>\n      <td>116.120003</td>\n      <td>112.250000</td>\n      <td>113.160004</td>\n      <td>111.965607</td>\n      <td>161498200</td>\n      <td>AAPL</td>\n      <td>112.842999</td>\n      <td>114.622749</td>\n      <td>101.352400</td>\n      <td>...</td>\n      <td>112.895000</td>\n      <td>118.915191</td>\n      <td>68.809872</td>\n      <td>74.509772</td>\n      <td>0.520072</td>\n      <td>-2.866950</td>\n      <td>111.360001</td>\n      <td>120.539997</td>\n      <td>115.180626</td>\n      <td>107.536251</td>\n    </tr>\n    <tr>\n      <th>2020-10-07</th>\n      <td>114.620003</td>\n      <td>115.550003</td>\n      <td>114.129997</td>\n      <td>115.080002</td>\n      <td>113.865334</td>\n      <td>96849000</td>\n      <td>AAPL</td>\n      <td>112.730999</td>\n      <td>115.059299</td>\n      <td>101.733925</td>\n      <td>...</td>\n      <td>112.779000</td>\n      <td>118.543824</td>\n      <td>81.942552</td>\n      <td>80.802561</td>\n      <td>-0.400309</td>\n      <td>1.696711</td>\n      <td>112.695000</td>\n      <td>120.539997</td>\n      <td>117.714375</td>\n      <td>108.643749</td>\n    </tr>\n    <tr>\n      <th>2020-10-08</th>\n      <td>116.250000</td>\n      <td>116.400002</td>\n      <td>114.589996</td>\n      <td>114.970001</td>\n      <td>113.756500</td>\n      <td>83477200</td>\n      <td>AAPL</td>\n      <td>112.805000</td>\n      <td>115.457899</td>\n      <td>102.096225</td>\n      <td>...</td>\n      <td>112.770167</td>\n      <td>118.518825</td>\n      <td>81.190154</td>\n      <td>77.314193</td>\n      <td>-0.138069</td>\n      <td>-0.095586</td>\n      <td>114.970001</td>\n      <td>120.539997</td>\n      <td>119.645000</td>\n      <td>110.543751</td>\n    </tr>\n    <tr>\n      <th>2020-10-09</th>\n      <td>115.279999</td>\n      <td>117.000000</td>\n      <td>114.919998</td>\n      <td>116.970001</td>\n      <td>115.735382</td>\n      <td>100506900</td>\n      <td>AAPL</td>\n      <td>113.053500</td>\n      <td>115.873499</td>\n      <td>102.483075</td>\n      <td>...</td>\n      <td>112.964500</td>\n      <td>118.910701</td>\n      <td>94.103774</td>\n      <td>85.745493</td>\n      <td>0.204004</td>\n      <td>1.739584</td>\n      <td>114.970001</td>\n      <td>115.969997</td>\n      <td>122.230623</td>\n      <td>112.883747</td>\n    </tr>\n    <tr>\n      <th>...</th>\n      <td>...</td>\n      <td>...</td>\n      <td>...</td>\n      <td>...</td>\n      <td>...</td>\n      <td>...</td>\n      <td>...</td>\n      <td>...</td>\n      <td>...</td>\n      <td>...</td>\n      <td>...</td>\n      <td>...</td>\n      <td>...</td>\n      <td>...</td>\n      <td>...</td>\n      <td>...</td>\n      <td>...</td>\n      <td>...</td>\n      <td>...</td>\n      <td>...</td>\n      <td>...</td>\n    </tr>\n    <tr>\n      <th>2022-05-09</th>\n      <td>154.929993</td>\n      <td>155.830002</td>\n      <td>151.490005</td>\n      <td>152.059998</td>\n      <td>152.059998</td>\n      <td>131577900</td>\n      <td>AAPL</td>\n      <td>162.206000</td>\n      <td>165.065000</td>\n      <td>168.242600</td>\n      <td>...</td>\n      <td>162.499500</td>\n      <td>171.764744</td>\n      <td>2.844273</td>\n      <td>14.657468</td>\n      <td>0.133748</td>\n      <td>-3.318922</td>\n      <td>158.985001</td>\n      <td>164.990005</td>\n      <td>168.082500</td>\n      <td>164.855003</td>\n    </tr>\n    <tr>\n      <th>2022-05-10</th>\n      <td>155.520004</td>\n      <td>156.740005</td>\n      <td>152.929993</td>\n      <td>154.509995</td>\n      <td>154.509995</td>\n      <td>115366700</td>\n      <td>AAPL</td>\n      <td>161.643999</td>\n      <td>164.852800</td>\n      <td>167.994700</td>\n      <td>...</td>\n      <td>161.897834</td>\n      <td>171.533691</td>\n      <td>15.069811</td>\n      <td>13.291543</td>\n      <td>-0.123206</td>\n      <td>1.611204</td>\n      <td>158.985001</td>\n      <td>164.990005</td>\n      <td>168.557503</td>\n      <td>164.855003</td>\n    </tr>\n    <tr>\n      <th>2022-05-11</th>\n      <td>153.500000</td>\n      <td>155.449997</td>\n      <td>145.809998</td>\n      <td>146.500000</td>\n      <td>146.500000</td>\n      <td>142689800</td>\n      <td>AAPL</td>\n      <td>160.585999</td>\n      <td>164.518800</td>\n      <td>167.737100</td>\n      <td>...</td>\n      <td>160.957667</td>\n      <td>171.620900</td>\n      <td>3.127845</td>\n      <td>7.013976</td>\n      <td>0.236837</td>\n      <td>-5.184127</td>\n      <td>156.144997</td>\n      <td>162.055000</td>\n      <td>169.242500</td>\n      <td>164.855003</td>\n    </tr>\n    <tr>\n      <th>2022-05-12</th>\n      <td>142.770004</td>\n      <td>146.199997</td>\n      <td>138.800003</td>\n      <td>142.559998</td>\n      <td>142.559998</td>\n      <td>182602000</td>\n      <td>AAPL</td>\n      <td>159.193999</td>\n      <td>164.038800</td>\n      <td>167.451300</td>\n      <td>...</td>\n      <td>159.613500</td>\n      <td>172.270557</td>\n      <td>13.583799</td>\n      <td>10.593818</td>\n      <td>0.279713</td>\n      <td>-2.689421</td>\n      <td>152.639999</td>\n      <td>156.215004</td>\n      <td>169.882504</td>\n      <td>164.855003</td>\n    </tr>\n    <tr>\n      <th>2022-05-13</th>\n      <td>144.589996</td>\n      <td>148.100006</td>\n      <td>143.110001</td>\n      <td>147.110001</td>\n      <td>147.110001</td>\n      <td>113787000</td>\n      <td>AAPL</td>\n      <td>158.285000</td>\n      <td>163.656400</td>\n      <td>167.224900</td>\n      <td>...</td>\n      <td>158.558834</td>\n      <td>172.002334</td>\n      <td>30.021675</td>\n      <td>15.577773</td>\n      <td>-0.376858</td>\n      <td>3.191641</td>\n      <td>152.639999</td>\n      <td>156.080002</td>\n      <td>169.862503</td>\n      <td>164.855003</td>\n    </tr>\n  </tbody>\n</table>\n<p>406 rows × 23 columns</p>\n</div>"
     },
     "execution_count": 90,
     "metadata": {},
     "output_type": "execute_result"
    }
   ],
   "source": [
    "# def get_volatility_entry(vol, change, ma20, rsi, bb_lower, close):\n",
    "#     if (rsi < 35) and (close < bb_lower)"
   ],
   "metadata": {
    "collapsed": false,
    "pycharm": {
     "name": "#%%\n"
    }
   }
  },
  {
   "cell_type": "code",
   "execution_count": 26,
   "outputs": [],
   "source": [
    "sp500_db = SP500Database()\n",
    "sp500_db.connect_existing_database(db_path / \"sp500.sqlite\")\n",
    "\n",
    "tickers = sp500_db.tickers\n",
    "\n",
    "vols = []\n",
    "for ticker in tickers:\n",
    "    df = sp500_db.query_ticker_data(ticker)\n",
    "    vols.append(compute_volatility(df))"
   ],
   "metadata": {
    "collapsed": false,
    "pycharm": {
     "name": "#%%\n"
    }
   }
  },
  {
   "cell_type": "code",
   "execution_count": 27,
   "outputs": [
    {
     "data": {
      "text/plain": "<Figure size 1800x600 with 1 Axes>",
      "image/png": "[encoded data removed]"
     },
     "metadata": {
      "needs_background": "light"
     },
     "output_type": "display_data"
    }
   ],
   "source": [
    "import matplotlib.pyplot as plt\n",
    "\n",
    "plt.figure(figsize=(12, 4), dpi=150)\n",
    "plt.xticks(range(0, 26))\n",
    "plt.hist(vols, bins=100);\n",
    "plt.grid()"
   ],
   "metadata": {
    "collapsed": false,
    "pycharm": {
     "name": "#%%\n"
    }
   }
  },
  {
   "cell_type": "code",
   "execution_count": 28,
   "outputs": [
    {
     "data": {
      "text/plain": "2.815302638255071"
     },
     "execution_count": 28,
     "metadata": {},
     "output_type": "execute_result"
    }
   ],
   "source": [
    "np.array(vols).mean()"
   ],
   "metadata": {
    "collapsed": false,
    "pycharm": {
     "name": "#%%\n"
    }
   }
  },
  {
   "cell_type": "code",
   "execution_count": 16,
   "outputs": [
    {
     "data": {
      "text/plain": "      test                 Date Ticker        Open        High         Low  \\\n0    77808  2021-10-01 00:00:00    ZTS  194.139999  197.699997  192.429993   \n1    77809  2021-10-04 00:00:00    ZTS  195.179993  195.990005  190.929993   \n2    77810  2021-10-05 00:00:00    ZTS  195.220001  197.500000  193.660004   \n3    77811  2021-10-06 00:00:00    ZTS  195.669998  196.070007  193.449997   \n4    77812  2021-10-07 00:00:00    ZTS  196.949997  201.440002  196.949997   \n..     ...                  ...    ...         ...         ...         ...   \n150  77958  2022-05-06 00:00:00    ZTS  169.669998  171.339996  167.520004   \n151  77959  2022-05-09 00:00:00    ZTS  167.000000  168.399994  161.100006   \n152  77960  2022-05-10 00:00:00    ZTS  163.990005  164.750000  159.080002   \n153  77961  2022-05-11 00:00:00    ZTS  161.869995  164.110001  159.259995   \n154  77962  2022-05-12 00:00:00    ZTS  158.339996  163.679993  158.270004   \n\n          Close   Adj_Close   Volume        MA20  ...   BB_middle    BB_upper  \\\n0    196.190002  195.299835  2095500  201.996502  ...  202.179167  211.674630   \n1    193.690002  192.811172  1942300  201.196502  ...  201.407000  211.074841   \n2    196.460007  195.568619  2490200  200.629002  ...  200.815000  210.314243   \n3    195.779999  194.891693  1564600  199.951502  ...  200.149334  209.284347   \n4    199.009995  198.107025  1093400  199.601002  ...  199.741334  208.272554   \n..          ...         ...      ...         ...  ...         ...         ...   \n150  169.210007  169.210007  3339500  182.107500  ...  182.405333  197.317333   \n151  161.809998  161.809998  2984600  180.193501  ...  180.610500  195.420849   \n152  162.649994  162.649994  2851900  178.701000  ...  178.978667  194.358187   \n153  159.899994  159.899994  3355200  177.300500  ...  177.560333  194.008014   \n154  162.139999  162.139999  1378217  175.931499  ...  176.201166  193.273527   \n\n       STOCH_K    STOCH_D  Volume_Change    Change  tenkan_sen   kijun_sen  \\\n0    32.036923  22.891130       0.173555  1.055941  198.654999  200.715004   \n1    18.338932  22.095834      -0.073109 -1.274275  198.454994  200.514999   \n2    36.744272  29.040042       0.282088  1.430122  198.454994  200.514999   \n3    32.225948  29.103050      -0.371697 -0.346130  198.254997  200.514999   \n4    53.687709  40.885976      -0.301163  1.649809  197.469994  200.514999   \n..         ...        ...            ...       ...         ...         ...   \n150   7.259461  20.416890       0.169620 -1.306498  174.870003  184.420006   \n151   2.390544   8.260523      -0.106273 -4.373269  171.660004  181.210007   \n152  11.899974   7.183326      -0.044462  0.519125  170.650002  180.200005   \n153   3.120213   5.803577       0.176479 -1.690747  170.470001  180.200005   \n154  16.158646  10.392944      -0.589230  1.400879  169.355003  179.795006   \n\n     senkou_span_a  senkou_span_b  \n0       203.079998     194.875000  \n1       203.439999     195.959999  \n2       203.852497     195.959999  \n3       203.852497     196.110001  \n4       203.852497     196.110001  \n..             ...            ...  \n150     190.880005     194.279999  \n151     190.880005     193.705002  \n152     190.655003     193.705002  \n153     190.497501     193.705002  \n154     190.035000     193.235001  \n\n[155 rows x 25 columns]",
      "text/html": "<div>\n<style scoped>\n    .dataframe tbody tr th:only-of-type {\n        vertical-align: middle;\n    }\n\n    .dataframe tbody tr th {\n        vertical-align: top;\n    }\n\n    .dataframe thead th {\n        text-align: right;\n    }\n</style>\n<table border=\"1\" class=\"dataframe\">\n  <thead>\n    <tr style=\"text-align: right;\">\n      <th></th>\n      <th>test</th>\n      <th>Date</th>\n      <th>Ticker</th>\n      <th>Open</th>\n      <th>High</th>\n      <th>Low</th>\n      <th>Close</th>\n      <th>Adj_Close</th>\n      <th>Volume</th>\n      <th>MA20</th>\n      <th>...</th>\n      <th>BB_middle</th>\n      <th>BB_upper</th>\n      <th>STOCH_K</th>\n      <th>STOCH_D</th>\n      <th>Volume_Change</th>\n      <th>Change</th>\n      <th>tenkan_sen</th>\n      <th>kijun_sen</th>\n      <th>senkou_span_a</th>\n      <th>senkou_span_b</th>\n    </tr>\n  </thead>\n  <tbody>\n    <tr>\n      <th>0</th>\n      <td>77808</td>\n      <td>2021-10-01 00:00:00</td>\n      <td>ZTS</td>\n      <td>194.139999</td>\n      <td>197.699997</td>\n      <td>192.429993</td>\n      <td>196.190002</td>\n      <td>195.299835</td>\n      <td>2095500</td>\n      <td>201.996502</td>\n      <td>...</td>\n      <td>202.179167</td>\n      <td>211.674630</td>\n      <td>32.036923</td>\n      <td>22.891130</td>\n      <td>0.173555</td>\n      <td>1.055941</td>\n      <td>198.654999</td>\n      <td>200.715004</td>\n      <td>203.079998</td>\n      <td>194.875000</td>\n    </tr>\n    <tr>\n      <th>1</th>\n      <td>77809</td>\n      <td>2021-10-04 00:00:00</td>\n      <td>ZTS</td>\n      <td>195.179993</td>\n      <td>195.990005</td>\n      <td>190.929993</td>\n      <td>193.690002</td>\n      <td>192.811172</td>\n      <td>1942300</td>\n      <td>201.196502</td>\n      <td>...</td>\n      <td>201.407000</td>\n      <td>211.074841</td>\n      <td>18.338932</td>\n      <td>22.095834</td>\n      <td>-0.073109</td>\n      <td>-1.274275</td>\n      <td>198.454994</td>\n      <td>200.514999</td>\n      <td>203.439999</td>\n      <td>195.959999</td>\n    </tr>\n    <tr>\n      <th>2</th>\n      <td>77810</td>\n      <td>2021-10-05 00:00:00</td>\n      <td>ZTS</td>\n      <td>195.220001</td>\n      <td>197.500000</td>\n      <td>193.660004</td>\n      <td>196.460007</td>\n      <td>195.568619</td>\n      <td>2490200</td>\n      <td>200.629002</td>\n      <td>...</td>\n      <td>200.815000</td>\n      <td>210.314243</td>\n      <td>36.744272</td>\n      <td>29.040042</td>\n      <td>0.282088</td>\n      <td>1.430122</td>\n      <td>198.454994</td>\n      <td>200.514999</td>\n      <td>203.852497</td>\n      <td>195.959999</td>\n    </tr>\n    <tr>\n      <th>3</th>\n      <td>77811</td>\n      <td>2021-10-06 00:00:00</td>\n      <td>ZTS</td>\n      <td>195.669998</td>\n      <td>196.070007</td>\n      <td>193.449997</td>\n      <td>195.779999</td>\n      <td>194.891693</td>\n      <td>1564600</td>\n      <td>199.951502</td>\n      <td>...</td>\n      <td>200.149334</td>\n      <td>209.284347</td>\n      <td>32.225948</td>\n      <td>29.103050</td>\n      <td>-0.371697</td>\n      <td>-0.346130</td>\n      <td>198.254997</td>\n      <td>200.514999</td>\n      <td>203.852497</td>\n      <td>196.110001</td>\n    </tr>\n    <tr>\n      <th>4</th>\n      <td>77812</td>\n      <td>2021-10-07 00:00:00</td>\n      <td>ZTS</td>\n      <td>196.949997</td>\n      <td>201.440002</td>\n      <td>196.949997</td>\n      <td>199.009995</td>\n      <td>198.107025</td>\n      <td>1093400</td>\n      <td>199.601002</td>\n      <td>...</td>\n      <td>199.741334</td>\n      <td>208.272554</td>\n      <td>53.687709</td>\n      <td>40.885976</td>\n      <td>-0.301163</td>\n      <td>1.649809</td>\n      <td>197.469994</td>\n      <td>200.514999</td>\n      <td>203.852497</td>\n      <td>196.110001</td>\n    </tr>\n    <tr>\n      <th>...</th>\n      <td>...</td>\n      <td>...</td>\n      <td>...</td>\n      <td>...</td>\n      <td>...</td>\n      <td>...</td>\n      <td>...</td>\n      <td>...</td>\n      <td>...</td>\n      <td>...</td>\n      <td>...</td>\n      <td>...</td>\n      <td>...</td>\n      <td>...</td>\n      <td>...</td>\n      <td>...</td>\n      <td>...</td>\n      <td>...</td>\n      <td>...</td>\n      <td>...</td>\n      <td>...</td>\n    </tr>\n    <tr>\n      <th>150</th>\n      <td>77958</td>\n      <td>2022-05-06 00:00:00</td>\n      <td>ZTS</td>\n      <td>169.669998</td>\n      <td>171.339996</td>\n      <td>167.520004</td>\n      <td>169.210007</td>\n      <td>169.210007</td>\n      <td>3339500</td>\n      <td>182.107500</td>\n      <td>...</td>\n      <td>182.405333</td>\n      <td>197.317333</td>\n      <td>7.259461</td>\n      <td>20.416890</td>\n      <td>0.169620</td>\n      <td>-1.306498</td>\n      <td>174.870003</td>\n      <td>184.420006</td>\n      <td>190.880005</td>\n      <td>194.279999</td>\n    </tr>\n    <tr>\n      <th>151</th>\n      <td>77959</td>\n      <td>2022-05-09 00:00:00</td>\n      <td>ZTS</td>\n      <td>167.000000</td>\n      <td>168.399994</td>\n      <td>161.100006</td>\n      <td>161.809998</td>\n      <td>161.809998</td>\n      <td>2984600</td>\n      <td>180.193501</td>\n      <td>...</td>\n      <td>180.610500</td>\n      <td>195.420849</td>\n      <td>2.390544</td>\n      <td>8.260523</td>\n      <td>-0.106273</td>\n      <td>-4.373269</td>\n      <td>171.660004</td>\n      <td>181.210007</td>\n      <td>190.880005</td>\n      <td>193.705002</td>\n    </tr>\n    <tr>\n      <th>152</th>\n      <td>77960</td>\n      <td>2022-05-10 00:00:00</td>\n      <td>ZTS</td>\n      <td>163.990005</td>\n      <td>164.750000</td>\n      <td>159.080002</td>\n      <td>162.649994</td>\n      <td>162.649994</td>\n      <td>2851900</td>\n      <td>178.701000</td>\n      <td>...</td>\n      <td>178.978667</td>\n      <td>194.358187</td>\n      <td>11.899974</td>\n      <td>7.183326</td>\n      <td>-0.044462</td>\n      <td>0.519125</td>\n      <td>170.650002</td>\n      <td>180.200005</td>\n      <td>190.655003</td>\n      <td>193.705002</td>\n    </tr>\n    <tr>\n      <th>153</th>\n      <td>77961</td>\n      <td>2022-05-11 00:00:00</td>\n      <td>ZTS</td>\n      <td>161.869995</td>\n      <td>164.110001</td>\n      <td>159.259995</td>\n      <td>159.899994</td>\n      <td>159.899994</td>\n      <td>3355200</td>\n      <td>177.300500</td>\n      <td>...</td>\n      <td>177.560333</td>\n      <td>194.008014</td>\n      <td>3.120213</td>\n      <td>5.803577</td>\n      <td>0.176479</td>\n      <td>-1.690747</td>\n      <td>170.470001</td>\n      <td>180.200005</td>\n      <td>190.497501</td>\n      <td>193.705002</td>\n    </tr>\n    <tr>\n      <th>154</th>\n      <td>77962</td>\n      <td>2022-05-12 00:00:00</td>\n      <td>ZTS</td>\n      <td>158.339996</td>\n      <td>163.679993</td>\n      <td>158.270004</td>\n      <td>162.139999</td>\n      <td>162.139999</td>\n      <td>1378217</td>\n      <td>175.931499</td>\n      <td>...</td>\n      <td>176.201166</td>\n      <td>193.273527</td>\n      <td>16.158646</td>\n      <td>10.392944</td>\n      <td>-0.589230</td>\n      <td>1.400879</td>\n      <td>169.355003</td>\n      <td>179.795006</td>\n      <td>190.035000</td>\n      <td>193.235001</td>\n    </tr>\n  </tbody>\n</table>\n<p>155 rows × 25 columns</p>\n</div>"
     },
     "execution_count": 16,
     "metadata": {},
     "output_type": "execute_result"
    }
   ],
   "source": [
    "df"
   ],
   "metadata": {
    "collapsed": false,
    "pycharm": {
     "name": "#%%\n"
    }
   }
  },
  {
   "cell_type": "code",
   "execution_count": null,
   "outputs": [],
   "source": [],
   "metadata": {
    "collapsed": false,
    "pycharm": {
     "name": "#%%\n"
    }
   }
  }
 ],
 "metadata": {
  "kernelspec": {
   "display_name": "Python 3",
   "language": "python",
   "name": "python3"
  },
  "language_info": {
   "codemirror_mode": {
    "name": "ipython",
    "version": 2
   },
   "file_extension": ".py",
   "mimetype": "text/x-python",
   "name": "python",
   "nbconvert_exporter": "python",
   "pygments_lexer": "ipython2",
   "version": "2.7.6"
  }
 },
 "nbformat": 4,
 "nbformat_minor": 0
}